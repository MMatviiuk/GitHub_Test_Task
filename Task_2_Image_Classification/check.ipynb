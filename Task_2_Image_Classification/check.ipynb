{
 "cells": [
  {
   "cell_type": "code",
   "execution_count": null,
   "metadata": {
    "trusted": true
   },
   "outputs": [],
   "source": [
    "import os\n",
    "import json\n",
    "import numpy as np\n",
    "import pandas as pd\n",
    "import matplotlib.pyplot as plt\n",
    "import seaborn as sns\n",
    "from PIL import Image, UnidentifiedImageError\n",
    "\n",
    "# 1. Check if we are running in the Kaggle environment\n",
    "in_kaggle = os.path.exists('/kaggle/working')\n",
    "if in_kaggle:\n",
    "    print(\"Running in Kaggle environment.\")\n",
    "else:\n",
    "    print(\"Not running in Kaggle environment. Adjust paths if necessary.\")\n",
    "\n",
    "for dirname, _, filenames in os.walk('/kaggle/input'):\n",
    "    for filename in filenames:\n",
    "        print(os.path.join(dirname, filename))\n",
    "        "
   ]
  },
  {
   "cell_type": "code",
   "execution_count": null,
   "metadata": {
    "trusted": true
   },
   "outputs": [],
   "source": [
    "%cd /kaggle/working\n",
    "!git clone https://github.com/MMatviiuk/Task_2_Image_Classification.git\n",
    "!mv Task_NER_Image_Classification/* .  \n",
    "!rm -rf Task_2_Image_Classification  \n",
    "!ls -R  "
   ]
  },
  {
   "cell_type": "code",
   "execution_count": null,
   "metadata": {
    "trusted": true
   },
   "outputs": [],
   "source": [
    "!pip install -r requirements.txt --quiet"
   ]
  },
  {
   "cell_type": "code",
   "execution_count": null,
   "metadata": {
    "trusted": true
   },
   "outputs": [],
   "source": [
    "!jupyter nbconvert --to notebook --execute --inplace EDA.ipynb\n",
    "%run EDA.ipynb"
   ]
  },
  {
   "cell_type": "code",
   "execution_count": null,
   "metadata": {
    "trusted": true
   },
   "outputs": [],
   "source": [
    "!rm -rf /kaggle/working/ner_model_bert/*\n",
    "!rm -rf /kaggle/working/ner_model_roberta/*\n",
    "!rm -rf /kaggle/working/__pycache__/\n",
    "!rm -rf /kaggle/working/*.pth\n"
   ]
  },
  {
   "cell_type": "code",
   "execution_count": null,
   "metadata": {
    "trusted": true
   },
   "outputs": [],
   "source": [
    "!python train_ner_bert.py \\\n",
    "    --train_file ./ner_data/ner_train.json \\\n",
    "    --val_file ./ner_data/ner_val.json \\\n",
    "    --model_name bert-base-cased \\\n",
    "    --epochs 10 \\\n",
    "    --batch_size 16 \\\n",
    "    --lr 3e-5 \\\n",
    "    --max_length 64 \\\n",
    "    --output_dir ./ner_model_bert"
   ]
  },
  {
   "cell_type": "code",
   "execution_count": null,
   "metadata": {
    "trusted": true
   },
   "outputs": [],
   "source": [
    "!rm -rf /kaggle/working/ner_model_roberta/*\n",
    "!rm -rf /kaggle/working/__pycache__/\n",
    "!rm -rf /kaggle/working/*.pth\n"
   ]
  },
  {
   "cell_type": "code",
   "execution_count": null,
   "metadata": {
    "trusted": true
   },
   "outputs": [],
   "source": [
    "!python train_ner_roberta.py \\\n",
    "    --train_file ./ner_data/ner_train.json \\\n",
    "    --val_file ./ner_data/ner_val.json \\\n",
    "    --model_name roberta-base \\\n",
    "    --epochs 10 \\\n",
    "    --batch_size 16 \\\n",
    "    --lr 3e-5 \\\n",
    "    --max_length 64 \\\n",
    "    --output_dir ./ner_model_roberta"
   ]
  },
  {
   "cell_type": "code",
   "execution_count": null,
   "metadata": {
    "trusted": true
   },
   "outputs": [],
   "source": [
    "!python infer_ner_ensemble.py \\\n",
    "    --text \"I saw a cat near the lake.\" \\\n",
    "    --bert_model_dir ./ner_model_bert \\\n",
    "    --roberta_model_dir ./ner_model_roberta\n"
   ]
  },
  {
   "cell_type": "code",
   "execution_count": null,
   "metadata": {
    "trusted": true
   },
   "outputs": [],
   "source": [
    "!python train_image_classifier.py \\\n",
    "    --data_dir /kaggle/input/animals10/raw-img/ \\\n",
    "    --epochs 10 \\\n",
    "    --batch_size 32 \\\n",
    "    --lr 0.001 \\\n",
    "    --output_model ./image_classifier.pth"
   ]
  },
  {
   "cell_type": "code",
   "execution_count": null,
   "metadata": {
    "trusted": true
   },
   "outputs": [],
   "source": [
    "!python infer_ner_ensemble.py \\\n",
    "    --text \"There is an elephant resting in the grass.\" \\\n",
    "    --bert_model_dir ./ner_model_bert \\\n",
    "    --roberta_model_dir ./ner_model_roberta\n"
   ]
  },
  {
   "cell_type": "code",
   "execution_count": null,
   "metadata": {
    "trusted": true
   },
   "outputs": [],
   "source": [
    "!python pipeline_ensemble.py \\\n",
    "    --text \"There is an elephant in the picture.\" \\\n",
    "    --image_path /kaggle/input/animals10/raw-img/elefante/OIP--NEqn4JVnn251xGu7ss4bQHaHa.jpeg \\\n",
    "    --bert_model_dir ./ner_model_bert \\\n",
    "    --roberta_model_dir ./ner_model_roberta \\\n",
    "    --img_model ./image_classifier.pth \\\n",
    "    --num_classes 10\n"
   ]
  }
 ],
 "metadata": {
  "kaggle": {
   "accelerator": "nvidiaTeslaT4",
   "dataSources": [
    {
     "datasetId": 59760,
     "sourceId": 840806,
     "sourceType": "datasetVersion"
    }
   ],
   "dockerImageVersionId": 30918,
   "isGpuEnabled": true,
   "isInternetEnabled": true,
   "language": "python",
   "sourceType": "notebook"
  },
  "kernelspec": {
   "display_name": "Python 3",
   "language": "python",
   "name": "python3"
  },
  "language_info": {
   "codemirror_mode": {
    "name": "ipython",
    "version": 3
   },
   "file_extension": ".py",
   "mimetype": "text/x-python",
   "name": "python",
   "nbconvert_exporter": "python",
   "pygments_lexer": "ipython3",
   "version": "3.10.12"
  }
 },
 "nbformat": 4,
 "nbformat_minor": 4
}
